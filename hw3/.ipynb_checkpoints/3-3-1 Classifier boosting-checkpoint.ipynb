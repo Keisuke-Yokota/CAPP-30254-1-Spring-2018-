{
 "cells": [
  {
   "cell_type": "code",
   "execution_count": 22,
   "metadata": {},
   "outputs": [],
   "source": [
    "from sklearn.grid_search import GridSearchCV\n",
    "from sklearn.ensemble import AdaBoostClassifier\n",
    "from sklearn.cross_validation import train_test_split\n",
    "from sklearn.metrics import classification_report, confusion_matrix"
   ]
  },
  {
   "cell_type": "code",
   "execution_count": 23,
   "metadata": {},
   "outputs": [],
   "source": [
    "import pandas as pd\n",
    "#import Analysis_hw3\n",
    "df = pd.read_csv('data.csv', header=0)\n",
    "df = df.drop([\"Unnamed: 0\"],axis=1) "
   ]
  },
  {
   "cell_type": "code",
   "execution_count": 24,
   "metadata": {},
   "outputs": [],
   "source": [
    "df = df.drop(['projectid', 'date_posted'],axis=1)\n",
    "X = df.iloc[:, 1:]"
   ]
  },
  {
   "cell_type": "code",
   "execution_count": 25,
   "metadata": {},
   "outputs": [],
   "source": [
    "Y = df.iloc[:, 0]"
   ]
  },
  {
   "cell_type": "code",
   "execution_count": 26,
   "metadata": {},
   "outputs": [],
   "source": [
    "x_train, x_test, y_train, y_test = train_test_split(X, Y, test_size=0.5, random_state=0)"
   ]
  },
  {
   "cell_type": "code",
   "execution_count": 27,
   "metadata": {},
   "outputs": [],
   "source": [
    "scores = ['accuracy', 'precision', 'recall']"
   ]
  },
  {
   "cell_type": "code",
   "execution_count": 28,
   "metadata": {},
   "outputs": [],
   "source": [
    "AB = AdaBoostClassifier()\n",
    "clfs = [AB]"
   ]
  },
  {
   "cell_type": "code",
   "execution_count": 29,
   "metadata": {},
   "outputs": [],
   "source": [
    "large_grid = { \n",
    "    AB: { 'algorithm': ['SAMME', 'SAMME.R'], 'n_estimators': [1,10,100,1000,10000]}           }"
   ]
  },
  {
   "cell_type": "code",
   "execution_count": 30,
   "metadata": {},
   "outputs": [],
   "source": [
    "small_grid = { \n",
    "    AB: { 'algorithm': ['SAMME', 'SAMME.R'], 'n_estimators': [1,10,100]}           }"
   ]
  },
  {
   "cell_type": "code",
   "execution_count": 31,
   "metadata": {},
   "outputs": [],
   "source": [
    "score = 'recall'"
   ]
  },
  {
   "cell_type": "code",
   "execution_count": 32,
   "metadata": {},
   "outputs": [
    {
     "name": "stdout",
     "output_type": "stream",
     "text": [
      "AdaBoostClassifier(algorithm='SAMME.R', base_estimator=None,\n",
      "          learning_rate=1.0, n_estimators=100, random_state=None)\n",
      "0.000 (+/- 0.000) for {'algorithm': 'SAMME', 'n_estimators': 1}\n",
      "             precision    recall  f1-score   support\n",
      "\n",
      "          0       0.95      0.98      0.96    121355\n",
      "          1       0.88      0.75      0.81     27025\n",
      "\n",
      "avg / total       0.93      0.94      0.93    148380\n",
      "\n",
      "[[118492   2863]\n",
      " [  6638  20387]]\n",
      "0.680 (+/- 0.004) for {'algorithm': 'SAMME', 'n_estimators': 10}\n",
      "             precision    recall  f1-score   support\n",
      "\n",
      "          0       0.95      0.98      0.96    121355\n",
      "          1       0.88      0.75      0.81     27025\n",
      "\n",
      "avg / total       0.93      0.94      0.93    148380\n",
      "\n",
      "[[118492   2863]\n",
      " [  6638  20387]]\n",
      "0.742 (+/- 0.003) for {'algorithm': 'SAMME', 'n_estimators': 100}\n",
      "             precision    recall  f1-score   support\n",
      "\n",
      "          0       0.95      0.98      0.96    121355\n",
      "          1       0.88      0.75      0.81     27025\n",
      "\n",
      "avg / total       0.93      0.94      0.93    148380\n",
      "\n",
      "[[118492   2863]\n",
      " [  6638  20387]]\n",
      "0.000 (+/- 0.000) for {'algorithm': 'SAMME.R', 'n_estimators': 1}\n",
      "             precision    recall  f1-score   support\n",
      "\n",
      "          0       0.95      0.98      0.96    121355\n",
      "          1       0.88      0.75      0.81     27025\n",
      "\n",
      "avg / total       0.93      0.94      0.93    148380\n",
      "\n",
      "[[118492   2863]\n",
      " [  6638  20387]]\n",
      "0.724 (+/- 0.004) for {'algorithm': 'SAMME.R', 'n_estimators': 10}\n",
      "             precision    recall  f1-score   support\n",
      "\n",
      "          0       0.95      0.98      0.96    121355\n",
      "          1       0.88      0.75      0.81     27025\n",
      "\n",
      "avg / total       0.93      0.94      0.93    148380\n",
      "\n",
      "[[118492   2863]\n",
      " [  6638  20387]]\n",
      "0.752 (+/- 0.003) for {'algorithm': 'SAMME.R', 'n_estimators': 100}\n",
      "             precision    recall  f1-score   support\n",
      "\n",
      "          0       0.95      0.98      0.96    121355\n",
      "          1       0.88      0.75      0.81     27025\n",
      "\n",
      "avg / total       0.93      0.94      0.93    148380\n",
      "\n",
      "[[118492   2863]\n",
      " [  6638  20387]]\n"
     ]
    }
   ],
   "source": [
    "for clf in clfs:\n",
    "    grid_clf = GridSearchCV(clf, small_grid[clf], cv=5, scoring=score, n_jobs=-1)\n",
    "    grid_clf.fit(x_train, y_train)\n",
    "\n",
    "    print(grid_clf.best_estimator_)\n",
    "\n",
    "    for params, mean_score, all_scores in grid_clf.grid_scores_:\n",
    "        print(\"{:.3f} (+/- {:.3f}) for {}\".format(\n",
    "            mean_score, all_scores.std() / 2, params))\n",
    "        y_true, y_pred = y_test, grid_clf.predict(x_test)\n",
    "        print(classification_report(y_true, y_pred))\n",
    "        print(confusion_matrix(y_true, y_pred))"
   ]
  },
  {
   "cell_type": "code",
   "execution_count": null,
   "metadata": {},
   "outputs": [],
   "source": []
  },
  {
   "cell_type": "code",
   "execution_count": null,
   "metadata": {},
   "outputs": [],
   "source": []
  }
 ],
 "metadata": {
  "kernelspec": {
   "display_name": "Python 3",
   "language": "python",
   "name": "python3"
  },
  "language_info": {
   "codemirror_mode": {
    "name": "ipython",
    "version": 3
   },
   "file_extension": ".py",
   "mimetype": "text/x-python",
   "name": "python",
   "nbconvert_exporter": "python",
   "pygments_lexer": "ipython3",
   "version": "3.6.4"
  }
 },
 "nbformat": 4,
 "nbformat_minor": 2
}
