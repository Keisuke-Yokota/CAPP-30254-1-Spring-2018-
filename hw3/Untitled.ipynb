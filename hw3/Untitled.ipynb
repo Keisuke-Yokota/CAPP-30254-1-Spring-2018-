{
 "cells": [
  {
   "cell_type": "code",
   "execution_count": 2,
   "metadata": {
    "scrolled": true
   },
   "outputs": [
    {
     "name": "stderr",
     "output_type": "stream",
     "text": [
      "/usr/local/lib/python3.5/dist-packages/sklearn/cross_validation.py:41: DeprecationWarning: This module was deprecated in version 0.18 in favor of the model_selection module into which all the refactored classes and functions are moved. Also note that the interface of the new CV iterators are different from that of this module. This module will be removed in 0.20.\n",
      "  \"This module will be removed in 0.20.\", DeprecationWarning)\n"
     ]
    }
   ],
   "source": [
    "import Analysis_hw3\n",
    "import pandas as pd\n",
    "df = Analysis_hw3.load_data()"
   ]
  },
  {
   "cell_type": "code",
   "execution_count": 3,
   "metadata": {},
   "outputs": [
    {
     "data": {
      "text/plain": [
       "0    247698\n",
       "1    105453\n",
       "Name: fully_funded, dtype: int64"
      ]
     },
     "execution_count": 3,
     "metadata": {},
     "output_type": "execute_result"
    }
   ],
   "source": [
    "df.fully_funded.value_counts()"
   ]
  },
  {
   "cell_type": "code",
   "execution_count": 4,
   "metadata": {
    "scrolled": true
   },
   "outputs": [
    {
     "data": {
      "text/plain": [
       "Index(['projectid', 'teacher_acctid', 'schoolid', 'school_ncesid',\n",
       "       'school_latitude', 'school_longitude', 'school_city', 'school_state',\n",
       "       'school_zip', 'school_metro', 'school_district', 'school_county',\n",
       "       'school_charter', 'school_magnet', 'school_year_round', 'school_nlns',\n",
       "       'school_kipp', 'school_charter_ready_promise', 'teacher_prefix',\n",
       "       'teacher_teach_for_america', 'teacher_ny_teaching_fellow',\n",
       "       'primary_focus_subject', 'primary_focus_area',\n",
       "       'secondary_focus_subject', 'secondary_focus_area', 'resource_type',\n",
       "       'poverty_level', 'grade_level', 'fulfillment_labor_materials',\n",
       "       'total_price_excluding_optional_support',\n",
       "       'total_price_including_optional_support', 'students_reached',\n",
       "       'eligible_double_your_impact_match', 'eligible_almost_home_match',\n",
       "       'date_posted', 'is_exciting', 'at_least_1_teacher_referred_donor',\n",
       "       'fully_funded', 'at_least_1_green_donation', 'great_chat',\n",
       "       'three_or_more_non_teacher_referred_donors',\n",
       "       'one_non_teacher_referred_donor_giving_100_plus',\n",
       "       'donation_from_thoughtful_donor', 'great_messages_proportion',\n",
       "       'teacher_referred_count', 'non_teacher_referred_count'],\n",
       "      dtype='object')"
      ]
     },
     "execution_count": 4,
     "metadata": {},
     "output_type": "execute_result"
    }
   ],
   "source": [
    "df.columns"
   ]
  },
  {
   "cell_type": "code",
   "execution_count": 5,
   "metadata": {},
   "outputs": [
    {
     "data": {
      "text/html": [
       "<div>\n",
       "<style>\n",
       "    .dataframe thead tr:only-child th {\n",
       "        text-align: right;\n",
       "    }\n",
       "\n",
       "    .dataframe thead th {\n",
       "        text-align: left;\n",
       "    }\n",
       "\n",
       "    .dataframe tbody tr th {\n",
       "        vertical-align: top;\n",
       "    }\n",
       "</style>\n",
       "<table border=\"1\" class=\"dataframe\">\n",
       "  <thead>\n",
       "    <tr style=\"text-align: right;\">\n",
       "      <th></th>\n",
       "      <th>projectid</th>\n",
       "      <th>teacher_acctid</th>\n",
       "      <th>schoolid</th>\n",
       "      <th>school_ncesid</th>\n",
       "      <th>school_latitude</th>\n",
       "      <th>school_longitude</th>\n",
       "      <th>school_city</th>\n",
       "      <th>school_state</th>\n",
       "      <th>school_zip</th>\n",
       "      <th>school_metro</th>\n",
       "      <th>school_district</th>\n",
       "      <th>school_county</th>\n",
       "      <th>school_charter</th>\n",
       "      <th>school_magnet</th>\n",
       "      <th>school_year_round</th>\n",
       "    </tr>\n",
       "  </thead>\n",
       "  <tbody>\n",
       "    <tr>\n",
       "      <th>0</th>\n",
       "      <td>62526d85d2a1818432d03d600969e99c</td>\n",
       "      <td>ebc7c90b6c92a069432e0714b8d93dfd</td>\n",
       "      <td>5aca9711ff0e4b37db48701f46f73036</td>\n",
       "      <td>1.713710e+11</td>\n",
       "      <td>41.972419</td>\n",
       "      <td>-88.174597</td>\n",
       "      <td>Bartlett</td>\n",
       "      <td>IL</td>\n",
       "      <td>60103.0</td>\n",
       "      <td>0</td>\n",
       "      <td>Elgin School District U-46</td>\n",
       "      <td>Du Page</td>\n",
       "      <td>1</td>\n",
       "      <td>1</td>\n",
       "      <td>1</td>\n",
       "    </tr>\n",
       "  </tbody>\n",
       "</table>\n",
       "</div>"
      ],
      "text/plain": [
       "                          projectid                    teacher_acctid  \\\n",
       "0  62526d85d2a1818432d03d600969e99c  ebc7c90b6c92a069432e0714b8d93dfd   \n",
       "\n",
       "                           schoolid  school_ncesid  school_latitude  \\\n",
       "0  5aca9711ff0e4b37db48701f46f73036   1.713710e+11        41.972419   \n",
       "\n",
       "   school_longitude school_city school_state  school_zip  school_metro  \\\n",
       "0        -88.174597    Bartlett           IL     60103.0             0   \n",
       "\n",
       "              school_district school_county  school_charter  school_magnet  \\\n",
       "0  Elgin School District U-46       Du Page               1              1   \n",
       "\n",
       "   school_year_round  \n",
       "0                  1  "
      ]
     },
     "execution_count": 5,
     "metadata": {},
     "output_type": "execute_result"
    }
   ],
   "source": [
    "df.iloc[:, :15].head(1)"
   ]
  },
  {
   "cell_type": "code",
   "execution_count": 6,
   "metadata": {
    "scrolled": false
   },
   "outputs": [
    {
     "data": {
      "text/html": [
       "<div>\n",
       "<style>\n",
       "    .dataframe thead tr:only-child th {\n",
       "        text-align: right;\n",
       "    }\n",
       "\n",
       "    .dataframe thead th {\n",
       "        text-align: left;\n",
       "    }\n",
       "\n",
       "    .dataframe tbody tr th {\n",
       "        vertical-align: top;\n",
       "    }\n",
       "</style>\n",
       "<table border=\"1\" class=\"dataframe\">\n",
       "  <thead>\n",
       "    <tr style=\"text-align: right;\">\n",
       "      <th></th>\n",
       "      <th>school_nlns</th>\n",
       "      <th>school_kipp</th>\n",
       "      <th>school_charter_ready_promise</th>\n",
       "      <th>teacher_prefix</th>\n",
       "      <th>teacher_teach_for_america</th>\n",
       "      <th>teacher_ny_teaching_fellow</th>\n",
       "      <th>primary_focus_subject</th>\n",
       "      <th>primary_focus_area</th>\n",
       "      <th>secondary_focus_subject</th>\n",
       "      <th>secondary_focus_area</th>\n",
       "      <th>resource_type</th>\n",
       "      <th>poverty_level</th>\n",
       "      <th>grade_level</th>\n",
       "      <th>fulfillment_labor_materials</th>\n",
       "      <th>total_price_excluding_optional_support</th>\n",
       "    </tr>\n",
       "  </thead>\n",
       "  <tbody>\n",
       "    <tr>\n",
       "      <th>0</th>\n",
       "      <td>1</td>\n",
       "      <td>1</td>\n",
       "      <td>1</td>\n",
       "      <td>0</td>\n",
       "      <td>1</td>\n",
       "      <td>1</td>\n",
       "      <td>Special Needs</td>\n",
       "      <td>Special Needs</td>\n",
       "      <td>Literacy</td>\n",
       "      <td>Literacy &amp; Language</td>\n",
       "      <td>Other</td>\n",
       "      <td>1</td>\n",
       "      <td>1</td>\n",
       "      <td>30.0</td>\n",
       "      <td>444.36</td>\n",
       "    </tr>\n",
       "  </tbody>\n",
       "</table>\n",
       "</div>"
      ],
      "text/plain": [
       "   school_nlns  school_kipp  school_charter_ready_promise  teacher_prefix  \\\n",
       "0            1            1                             1               0   \n",
       "\n",
       "   teacher_teach_for_america  teacher_ny_teaching_fellow  \\\n",
       "0                          1                           1   \n",
       "\n",
       "  primary_focus_subject primary_focus_area secondary_focus_subject  \\\n",
       "0         Special Needs      Special Needs                Literacy   \n",
       "\n",
       "  secondary_focus_area resource_type  poverty_level  grade_level  \\\n",
       "0  Literacy & Language         Other              1            1   \n",
       "\n",
       "   fulfillment_labor_materials  total_price_excluding_optional_support  \n",
       "0                         30.0                                  444.36  "
      ]
     },
     "execution_count": 6,
     "metadata": {},
     "output_type": "execute_result"
    }
   ],
   "source": [
    "df.iloc[:, 15:30].head(1)"
   ]
  },
  {
   "cell_type": "code",
   "execution_count": 7,
   "metadata": {},
   "outputs": [
    {
     "data": {
      "text/html": [
       "<div>\n",
       "<style>\n",
       "    .dataframe thead tr:only-child th {\n",
       "        text-align: right;\n",
       "    }\n",
       "\n",
       "    .dataframe thead th {\n",
       "        text-align: left;\n",
       "    }\n",
       "\n",
       "    .dataframe tbody tr th {\n",
       "        vertical-align: top;\n",
       "    }\n",
       "</style>\n",
       "<table border=\"1\" class=\"dataframe\">\n",
       "  <thead>\n",
       "    <tr style=\"text-align: right;\">\n",
       "      <th></th>\n",
       "      <th>total_price_including_optional_support</th>\n",
       "      <th>students_reached</th>\n",
       "      <th>eligible_double_your_impact_match</th>\n",
       "      <th>eligible_almost_home_match</th>\n",
       "      <th>date_posted</th>\n",
       "      <th>is_exciting</th>\n",
       "      <th>at_least_1_teacher_referred_donor</th>\n",
       "      <th>fully_funded</th>\n",
       "      <th>at_least_1_green_donation</th>\n",
       "      <th>great_chat</th>\n",
       "      <th>three_or_more_non_teacher_referred_donors</th>\n",
       "      <th>one_non_teacher_referred_donor_giving_100_plus</th>\n",
       "      <th>donation_from_thoughtful_donor</th>\n",
       "      <th>great_messages_proportion</th>\n",
       "      <th>teacher_referred_count</th>\n",
       "      <th>non_teacher_referred_count</th>\n",
       "    </tr>\n",
       "  </thead>\n",
       "  <tbody>\n",
       "    <tr>\n",
       "      <th>0</th>\n",
       "      <td>522.78</td>\n",
       "      <td>7.0</td>\n",
       "      <td>1</td>\n",
       "      <td>1</td>\n",
       "      <td>2013-12-31</td>\n",
       "      <td>1</td>\n",
       "      <td>1</td>\n",
       "      <td>0</td>\n",
       "      <td>1</td>\n",
       "      <td>0</td>\n",
       "      <td>0</td>\n",
       "      <td>0</td>\n",
       "      <td>1</td>\n",
       "      <td>80.0</td>\n",
       "      <td>0.0</td>\n",
       "      <td>6.0</td>\n",
       "    </tr>\n",
       "  </tbody>\n",
       "</table>\n",
       "</div>"
      ],
      "text/plain": [
       "   total_price_including_optional_support  students_reached  \\\n",
       "0                                  522.78               7.0   \n",
       "\n",
       "   eligible_double_your_impact_match  eligible_almost_home_match date_posted  \\\n",
       "0                                  1                           1  2013-12-31   \n",
       "\n",
       "   is_exciting  at_least_1_teacher_referred_donor  fully_funded  \\\n",
       "0            1                                  1             0   \n",
       "\n",
       "   at_least_1_green_donation  great_chat  \\\n",
       "0                          1           0   \n",
       "\n",
       "   three_or_more_non_teacher_referred_donors  \\\n",
       "0                                          0   \n",
       "\n",
       "   one_non_teacher_referred_donor_giving_100_plus  \\\n",
       "0                                               0   \n",
       "\n",
       "   donation_from_thoughtful_donor  great_messages_proportion  \\\n",
       "0                               1                       80.0   \n",
       "\n",
       "   teacher_referred_count  non_teacher_referred_count  \n",
       "0                     0.0                         6.0  "
      ]
     },
     "execution_count": 7,
     "metadata": {},
     "output_type": "execute_result"
    }
   ],
   "source": [
    "df.iloc[:, 30:].head(1)"
   ]
  },
  {
   "cell_type": "code",
   "execution_count": 8,
   "metadata": {},
   "outputs": [],
   "source": [
    "import pandas as pd\n",
    "primary_area = pd.get_dummies(df.primary_focus_area, drop_first=True)\n",
    "secondary_area = pd.get_dummies(df.secondary_focus_area, drop_first=True)"
   ]
  },
  {
   "cell_type": "code",
   "execution_count": 9,
   "metadata": {},
   "outputs": [],
   "source": []
  },
  {
   "cell_type": "code",
   "execution_count": 10,
   "metadata": {
    "scrolled": true
   },
   "outputs": [
    {
     "data": {
      "text/plain": [
       "Index(['projectid', 'school_metro', 'school_charter', 'school_magnet',\n",
       "       'school_year_round', 'school_nlns', 'school_kipp',\n",
       "       'school_charter_ready_promise', 'teacher_prefix',\n",
       "       'teacher_teach_for_america', 'teacher_ny_teaching_fellow',\n",
       "       'poverty_level', 'grade_level', 'fulfillment_labor_materials',\n",
       "       'total_price_excluding_optional_support',\n",
       "       'total_price_including_optional_support', 'students_reached',\n",
       "       'eligible_double_your_impact_match', 'eligible_almost_home_match',\n",
       "       'date_posted', 'is_exciting', 'at_least_1_teacher_referred_donor',\n",
       "       'at_least_1_green_donation', 'great_chat',\n",
       "       'three_or_more_non_teacher_referred_donors',\n",
       "       'one_non_teacher_referred_donor_giving_100_plus',\n",
       "       'donation_from_thoughtful_donor', 'great_messages_proportion',\n",
       "       'teacher_referred_count', 'non_teacher_referred_count'],\n",
       "      dtype='object')"
      ]
     },
     "execution_count": 10,
     "metadata": {},
     "output_type": "execute_result"
    }
   ],
   "source": [
    "col_num = [0,9,12,13,14,15,16,17,18,19,20,26,27,28,29,30,31,32,33,34,35,36,38,39,40,41,42,43,44,45]\n",
    "df0 = df.iloc[:, col_num]\n",
    "df0.columns"
   ]
  },
  {
   "cell_type": "code",
   "execution_count": 11,
   "metadata": {},
   "outputs": [
    {
     "data": {
      "text/plain": [
       "(353151, 30)"
      ]
     },
     "execution_count": 11,
     "metadata": {},
     "output_type": "execute_result"
    }
   ],
   "source": [
    "df0.shape"
   ]
  },
  {
   "cell_type": "code",
   "execution_count": 12,
   "metadata": {},
   "outputs": [],
   "source": [
    "X = pd.concat([df0, primary_area, secondary_area], axis=1)\n",
    "Y = df.iloc[:, 37]"
   ]
  },
  {
   "cell_type": "code",
   "execution_count": null,
   "metadata": {},
   "outputs": [],
   "source": [
    "X.describe()"
   ]
  },
  {
   "cell_type": "code",
   "execution_count": null,
   "metadata": {
    "collapsed": true
   },
   "outputs": [],
   "source": []
  },
  {
   "cell_type": "code",
   "execution_count": null,
   "metadata": {
    "collapsed": true
   },
   "outputs": [],
   "source": []
  },
  {
   "cell_type": "code",
   "execution_count": null,
   "metadata": {
    "collapsed": true
   },
   "outputs": [],
   "source": []
  },
  {
   "cell_type": "code",
   "execution_count": null,
   "metadata": {
    "collapsed": true
   },
   "outputs": [],
   "source": []
  },
  {
   "cell_type": "code",
   "execution_count": null,
   "metadata": {
    "collapsed": true
   },
   "outputs": [],
   "source": []
  }
 ],
 "metadata": {
  "kernelspec": {
   "display_name": "Python 3",
   "language": "python",
   "name": "python3"
  },
  "language_info": {
   "codemirror_mode": {
    "name": "ipython",
    "version": 3
   },
   "file_extension": ".py",
   "mimetype": "text/x-python",
   "name": "python",
   "nbconvert_exporter": "python",
   "pygments_lexer": "ipython3",
   "version": "3.6.4"
  }
 },
 "nbformat": 4,
 "nbformat_minor": 2
}
