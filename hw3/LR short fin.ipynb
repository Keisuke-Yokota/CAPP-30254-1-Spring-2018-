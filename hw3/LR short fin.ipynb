{
 "cells": [
  {
   "cell_type": "code",
   "execution_count": 18,
   "metadata": {},
   "outputs": [],
   "source": [
    "from sklearn.grid_search import GridSearchCV\n",
    "from sklearn.linear_model import LogisticRegression\n",
    "from sklearn.neighbors import KNeighborsClassifier\n",
    "from sklearn.tree import DecisionTreeClassifier\n",
    "from sklearn.ensemble import RandomForestClassifier, BaggingClassifier, AdaBoostClassifier\n",
    "from sklearn.svm import SVC\n",
    "from sklearn.cross_validation import train_test_split\n",
    "from sklearn.metrics import classification_report, confusion_matrix "
   ]
  },
  {
   "cell_type": "code",
   "execution_count": 19,
   "metadata": {},
   "outputs": [],
   "source": [
    "import pandas as pd\n",
    "#import Analysis_hw3\n",
    "df = pd.read_csv('data.csv', header=0)\n",
    "df = df.drop([\"Unnamed: 0\"],axis=1) "
   ]
  },
  {
   "cell_type": "code",
   "execution_count": 20,
   "metadata": {},
   "outputs": [],
   "source": [
    "df = df.drop(['projectid', 'date_posted'],axis=1)\n",
    "X = df.iloc[:, 1:]"
   ]
  },
  {
   "cell_type": "code",
   "execution_count": 21,
   "metadata": {},
   "outputs": [],
   "source": [
    "Y = df.iloc[:, 0]"
   ]
  },
  {
   "cell_type": "code",
   "execution_count": 22,
   "metadata": {},
   "outputs": [],
   "source": [
    "x_train, x_test, y_train, y_test = train_test_split(X, Y, test_size=0.2, random_state=0)"
   ]
  },
  {
   "cell_type": "code",
   "execution_count": 23,
   "metadata": {},
   "outputs": [],
   "source": [
    "scores = ['accuracy', 'precision', 'recall']"
   ]
  },
  {
   "cell_type": "code",
   "execution_count": 24,
   "metadata": {},
   "outputs": [],
   "source": [
    "LR = LogisticRegression()\n",
    "KNN = KNeighborsClassifier()\n",
    "DT = DecisionTreeClassifier()\n",
    "RF = RandomForestClassifier()\n",
    "BAG = BaggingClassifier()\n",
    "AB = AdaBoostClassifier()\n",
    "SVM = SVC()\n",
    "clfs = [LR,KNN,DT,RF,BAG,AB,SVM]"
   ]
  },
  {
   "cell_type": "code",
   "execution_count": 28,
   "metadata": {},
   "outputs": [],
   "source": [
    "small_grid = { \n",
    "    RF :{'n_estimators': [100, 10000], 'max_depth': [5,50], 'max_features': ['sqrt','log2'],'min_samples_split': [2,10]},\n",
    "    LR : { 'penalty': ['l1','l2'], 'C': [0.00001,0.001,0.1,1,10]},\n",
    "    AB : { 'algorithm': ['SAMME', 'SAMME.R'], 'n_estimators': [1,10,100,1000,10000]},\n",
    "    DT : {'criterion': ['gini', 'entropy'], 'max_depth': [1,5,10,20,50,100], 'max_features': [None,'sqrt','log2'],'min_samples_split': [2,5,10]},\n",
    "    SVM :{'C' :[0.00001,0.0001,0.001,0.01,0.1,1,10],'kernel':['linear', 'rbf']},\n",
    "    KNN :{'n_neighbors': [1,5,10,25,50,100],'weights': ['uniform','distance'],'algorithm': ['auto','ball_tree','kd_tree']},\n",
    "    BAG :{'n_neighbors': [1,5,10,25,50,100],'max_features': [2,10]}     \n",
    "           }"
   ]
  },
  {
   "cell_type": "code",
   "execution_count": 29,
   "metadata": {},
   "outputs": [],
   "source": [
    "score = 'recall'"
   ]
  },
  {
   "cell_type": "code",
   "execution_count": null,
   "metadata": {},
   "outputs": [
    {
     "name": "stdout",
     "output_type": "stream",
     "text": [
      "LogisticRegression(C=10, class_weight=None, dual=False, fit_intercept=True,\n",
      "          intercept_scaling=1, max_iter=100, multi_class='ovr', n_jobs=1,\n",
      "          penalty='l2', random_state=None, solver='liblinear', tol=0.0001,\n",
      "          verbose=0, warm_start=False)\n",
      "0.000 (+/- 0.000) for {'C': 1e-05, 'penalty': 'l1'}\n",
      "             precision    recall  f1-score   support\n",
      "\n",
      "          0       0.94      0.96      0.95     48482\n",
      "          1       0.81      0.71      0.76     10870\n",
      "\n",
      "avg / total       0.91      0.92      0.91     59352\n",
      "\n",
      "[[46682  1800]\n",
      " [ 3124  7746]]\n",
      "0.001 (+/- 0.000) for {'C': 1e-05, 'penalty': 'l2'}\n",
      "             precision    recall  f1-score   support\n",
      "\n",
      "          0       0.94      0.96      0.95     48482\n",
      "          1       0.81      0.71      0.76     10870\n",
      "\n",
      "avg / total       0.91      0.92      0.91     59352\n",
      "\n",
      "[[46682  1800]\n",
      " [ 3124  7746]]\n",
      "0.671 (+/- 0.002) for {'C': 0.001, 'penalty': 'l1'}\n",
      "             precision    recall  f1-score   support\n",
      "\n",
      "          0       0.94      0.96      0.95     48482\n",
      "          1       0.81      0.71      0.76     10870\n",
      "\n",
      "avg / total       0.91      0.92      0.91     59352\n",
      "\n",
      "[[46682  1800]\n",
      " [ 3124  7746]]\n",
      "0.611 (+/- 0.003) for {'C': 0.001, 'penalty': 'l2'}\n",
      "             precision    recall  f1-score   support\n",
      "\n",
      "          0       0.94      0.96      0.95     48482\n",
      "          1       0.81      0.71      0.76     10870\n",
      "\n",
      "avg / total       0.91      0.92      0.91     59352\n",
      "\n",
      "[[46682  1800]\n",
      " [ 3124  7746]]\n",
      "0.715 (+/- 0.003) for {'C': 0.1, 'penalty': 'l1'}\n",
      "             precision    recall  f1-score   support\n",
      "\n",
      "          0       0.94      0.96      0.95     48482\n",
      "          1       0.81      0.71      0.76     10870\n",
      "\n",
      "avg / total       0.91      0.92      0.91     59352\n",
      "\n",
      "[[46682  1800]\n",
      " [ 3124  7746]]\n",
      "0.713 (+/- 0.003) for {'C': 0.1, 'penalty': 'l2'}\n",
      "             precision    recall  f1-score   support\n",
      "\n",
      "          0       0.94      0.96      0.95     48482\n",
      "          1       0.81      0.71      0.76     10870\n",
      "\n",
      "avg / total       0.91      0.92      0.91     59352\n",
      "\n",
      "[[46682  1800]\n",
      " [ 3124  7746]]\n",
      "0.716 (+/- 0.003) for {'C': 1, 'penalty': 'l1'}\n",
      "             precision    recall  f1-score   support\n",
      "\n",
      "          0       0.94      0.96      0.95     48482\n",
      "          1       0.81      0.71      0.76     10870\n",
      "\n",
      "avg / total       0.91      0.92      0.91     59352\n",
      "\n",
      "[[46682  1800]\n",
      " [ 3124  7746]]\n",
      "0.716 (+/- 0.002) for {'C': 1, 'penalty': 'l2'}\n",
      "             precision    recall  f1-score   support\n",
      "\n",
      "          0       0.94      0.96      0.95     48482\n",
      "          1       0.81      0.71      0.76     10870\n",
      "\n",
      "avg / total       0.91      0.92      0.91     59352\n",
      "\n",
      "[[46682  1800]\n",
      " [ 3124  7746]]\n",
      "0.716 (+/- 0.002) for {'C': 10, 'penalty': 'l1'}\n",
      "             precision    recall  f1-score   support\n",
      "\n",
      "          0       0.94      0.96      0.95     48482\n",
      "          1       0.81      0.71      0.76     10870\n",
      "\n",
      "avg / total       0.91      0.92      0.91     59352\n",
      "\n",
      "[[46682  1800]\n",
      " [ 3124  7746]]\n",
      "0.716 (+/- 0.002) for {'C': 10, 'penalty': 'l2'}\n",
      "             precision    recall  f1-score   support\n",
      "\n",
      "          0       0.94      0.96      0.95     48482\n",
      "          1       0.81      0.71      0.76     10870\n",
      "\n",
      "avg / total       0.91      0.92      0.91     59352\n",
      "\n",
      "[[46682  1800]\n",
      " [ 3124  7746]]\n"
     ]
    }
   ],
   "source": [
    "for clf in clfs:\n",
    "    grid_clf = GridSearchCV(clf, small_grid[clf], cv=5, scoring=score, n_jobs=-1)\n",
    "    grid_clf.fit(x_train, y_train)\n",
    "\n",
    "    print(grid_clf.best_estimator_)\n",
    "\n",
    "    for params, mean_score, all_scores in grid_clf.grid_scores_:\n",
    "        print(\"{:.3f} (+/- {:.3f}) for {}\".format(\n",
    "            mean_score, all_scores.std() / 2, params))\n",
    "        y_true, y_pred = y_test, grid_clf.predict(x_test)\n",
    "        print(classification_report(y_true, y_pred))\n",
    "        print(confusion_matrix(y_true, y_pred))"
   ]
  }
 ],
 "metadata": {
  "kernelspec": {
   "display_name": "Python 3",
   "language": "python",
   "name": "python3"
  },
  "language_info": {
   "codemirror_mode": {
    "name": "ipython",
    "version": 3
   },
   "file_extension": ".py",
   "mimetype": "text/x-python",
   "name": "python",
   "nbconvert_exporter": "python",
   "pygments_lexer": "ipython3",
   "version": "3.6.4"
  }
 },
 "nbformat": 4,
 "nbformat_minor": 2
}
