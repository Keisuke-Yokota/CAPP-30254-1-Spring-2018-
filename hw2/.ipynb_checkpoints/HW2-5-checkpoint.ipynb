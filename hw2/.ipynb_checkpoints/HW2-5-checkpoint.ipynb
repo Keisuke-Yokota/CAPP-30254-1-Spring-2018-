{
 "cells": [
  {
   "cell_type": "code",
   "execution_count": null,
   "metadata": {
    "collapsed": true
   },
   "outputs": [],
   "source": [
    "import pandas as pd\n",
    "import numpy as np\n",
    "import matplotlib.pyplot as plt\n",
    "import seaborn as sns\n",
    "from numpy import eye\n",
    "import Analysis\n",
    "%matplotlib inline"
   ]
  },
  {
   "cell_type": "code",
   "execution_count": null,
   "metadata": {
    "collapsed": true
   },
   "outputs": [],
   "source": [
    "df = pd.read_csv('cs-training.csv', header=0)\n",
    "df.reset_index()\n",
    "df = df.rename(columns={'Unnamed: 0':'ID', \n",
    "                        'NumberOfTime30-59DaysPastDueNotWorse':'Less2months',\n",
    "                       'NumberOfTimes90DaysLate':'More3months',\n",
    "                       'NumberOfTime60-89DaysPastDueNotWorse':'Less3months'})\n",
    "df = df.set_index('ID')\n",
    "df = df.fillna(df.mean())"
   ]
  },
  {
   "cell_type": "code",
   "execution_count": null,
   "metadata": {},
   "outputs": [],
   "source": [
    "from sklearn.preprocessing import StandardScaler\n",
    "sc = StandardScaler()\n",
    "sc.fit(df.iloc[:, 1:].fillna(df.mean()))\n",
    "x_train_std = sc.transform(df.iloc[:, 1:].fillna(df.mean()))\n",
    "x_train_std\n",
    "#df_std = sc.fit_transform(df.iloc[:, 1:].fillna(df.mean()))\n",
    "#x_train_std = pd.DataFrame(df_std)\n",
    "#x_train_std.index = x_train_std.index + 1\n",
    "\n",
    "#df_std.columns = df.iloc[:, 1:].columns\n",
    "#new_df = pd.concat([df.iloc[:, 0], df_std], axis=1)"
   ]
  },
  {
   "cell_type": "code",
   "execution_count": null,
   "metadata": {},
   "outputs": [],
   "source": [
    "df['Age_bin'] = pd.cut(df.iloc[:, 2], 4, labels=False)\n",
    "dummy_df = pd.get_dummies(df['Age_bin'], drop_first=True).rename(columns={1:'Age_1', \n",
    "                                                                2:'Age_2',\n",
    "                                                                3:'Age_3'})\n",
    "\n",
    "y_train = df.iloc[:, 0]"
   ]
  },
  {
   "cell_type": "code",
   "execution_count": null,
   "metadata": {},
   "outputs": [],
   "source": [
    "from sklearn.svm import SVC\n",
    "svm = SVC(kernel='linear', C=1.0,random_state=1)\n",
    "svm.fit(x_train_std, y_train)"
   ]
  },
  {
   "cell_type": "code",
   "execution_count": null,
   "metadata": {
    "collapsed": true
   },
   "outputs": [],
   "source": [
    "from sklearn.metrics import accuracy_score\n",
    "\n",
    "# トレーニングデータに対する精度\n",
    "pred_train = svm.predict(X_train_std)\n",
    "accuracy_train = accuracy_score(y_train, pred_train)\n",
    "print('トレーニングデータに対する正解率： %.2f' % accuracy_train)"
   ]
  },
  {
   "cell_type": "code",
   "execution_count": null,
   "metadata": {
    "collapsed": true
   },
   "outputs": [],
   "source": []
  }
 ],
 "metadata": {
  "kernelspec": {
   "display_name": "Python 3",
   "language": "python",
   "name": "python3"
  },
  "language_info": {
   "codemirror_mode": {
    "name": "ipython",
    "version": 3
   },
   "file_extension": ".py",
   "mimetype": "text/x-python",
   "name": "python",
   "nbconvert_exporter": "python",
   "pygments_lexer": "ipython3",
   "version": "3.5.2"
  }
 },
 "nbformat": 4,
 "nbformat_minor": 2
}
