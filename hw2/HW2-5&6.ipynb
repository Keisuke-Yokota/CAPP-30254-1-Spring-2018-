{
 "cells": [
  {
   "cell_type": "code",
   "execution_count": 1,
   "metadata": {
    "collapsed": true
   },
   "outputs": [],
   "source": [
    "import pandas as pd\n",
    "import numpy as np\n",
    "import matplotlib.pyplot as plt\n",
    "import seaborn as sns\n",
    "from numpy import eye\n",
    "import Analysis\n",
    "%matplotlib inline"
   ]
  },
  {
   "cell_type": "code",
   "execution_count": 2,
   "metadata": {
    "collapsed": true
   },
   "outputs": [],
   "source": [
    "df_train = pd.read_csv('cs-training.csv', header=0)\n",
    "df_train.reset_index()\n",
    "df_train = df_train.rename(columns={'Unnamed: 0':'ID', \n",
    "                        'NumberOfTime30-59DaysPastDueNotWorse':'Less2months',\n",
    "                       'NumberOfTimes90DaysLate':'More3months',\n",
    "                       'NumberOfTime60-89DaysPastDueNotWorse':'Less3months'})\n",
    "df_train = df_train.set_index('ID')\n",
    "df_train = df_train.fillna(df_train.mean())\n",
    "x_train = df_train.iloc[:, 1:]\n",
    "y_train = df_train.iloc[:, 0]"
   ]
  },
  {
   "cell_type": "code",
   "execution_count": 3,
   "metadata": {
    "collapsed": true
   },
   "outputs": [],
   "source": [
    "from sklearn.preprocessing import StandardScaler\n",
    "sc = StandardScaler()\n",
    "sc.fit(x_train)\n",
    "x_train_std = sc.transform(x_train)\n",
    "x_train_std = pd.DataFrame(x_train_std)\n",
    "x_train_std.index = x_train_std.index + 1\n",
    "x_train_std.columns = df_train.iloc[:, 1:].columns"
   ]
  },
  {
   "cell_type": "code",
   "execution_count": 10,
   "metadata": {},
   "outputs": [
    {
     "name": "stdout",
     "output_type": "stream",
     "text": [
      "Train score: 0.9907066666666666\n",
      "accuracy score: 0.991\n",
      "precison score: 0.996\n",
      "Confusion matrix:\n",
      "[[139940     34]\n",
      " [  1360   8666]]\n",
      "f1 score: 0.926\n"
     ]
    }
   ],
   "source": [
    "from sklearn.ensemble import RandomForestClassifier\n",
    "from sklearn.metrics import accuracy_score\n",
    "from sklearn.metrics import confusion_matrix\n",
    "from sklearn.metrics import f1_score\n",
    "from sklearn.metrics import precision_score\n",
    "from sklearn.metrics import recall_score\n",
    "\n",
    "forest = RandomForestClassifier(random_state=1)\n",
    "forest.fit(x_train, y_train)\n",
    "print('Train score: {}'.format(forest.score(x_train, y_train)))\n",
    "print('accuracy score: {:.3f}'.format(accuracy_score(y_train, forest.predict(x_train))))\n",
    "print('precison score: {:.3f}'.format(precision_score(y_train, forest.predict(x_train))))\n",
    "print('recall score: {:.3f}'.format(recall_score(y_train, forest.predict(x_train))))\n",
    "print('Confusion matrix:\\n{}'.format(confusion_matrix(y_train, forest.predict(x_train))))\n",
    "print('f1 score: {:.3f}'.format(f1_score(y_train, forest.predict(x_train))))"
   ]
  },
  {
   "cell_type": "code",
   "execution_count": 5,
   "metadata": {
    "scrolled": true
   },
   "outputs": [
    {
     "data": {
      "text/plain": [
       "([<matplotlib.axis.YTick at 0x7f4acc22a048>,\n",
       "  <matplotlib.axis.YTick at 0x7f4acc22a2b0>,\n",
       "  <matplotlib.axis.YTick at 0x7f4acc21f3c8>,\n",
       "  <matplotlib.axis.YTick at 0x7f4acc203550>,\n",
       "  <matplotlib.axis.YTick at 0x7f4acc203f60>,\n",
       "  <matplotlib.axis.YTick at 0x7f4acc18c9b0>,\n",
       "  <matplotlib.axis.YTick at 0x7f4acc190400>,\n",
       "  <matplotlib.axis.YTick at 0x7f4acc190e10>,\n",
       "  <matplotlib.axis.YTick at 0x7f4acc193860>,\n",
       "  <matplotlib.axis.YTick at 0x7f4acc1982b0>],\n",
       " <a list of 10 Text yticklabel objects>)"
      ]
     },
     "execution_count": 5,
     "metadata": {},
     "output_type": "execute_result"
    },
    {
     "data": {
      "image/png": "[encoded data removed]",
      "text/plain": [
       "<matplotlib.figure.Figure at 0x7f4ace8ba898>"
      ]
     },
     "metadata": {},
     "output_type": "display_data"
    }
   ],
   "source": [
    "values, names = zip(*sorted(zip(forest.feature_importances_, x_train.columns)))\n",
    "\n",
    "plt.figure(figsize=(11,11))\n",
    "plt.barh(range(len(names)), values, align='center')\n",
    "plt.yticks(range(len(names)), names)"
   ]
  }
 ],
 "metadata": {
  "kernelspec": {
   "display_name": "Python 3",
   "language": "python",
   "name": "python3"
  },
  "language_info": {
   "codemirror_mode": {
    "name": "ipython",
    "version": 3
   },
   "file_extension": ".py",
   "mimetype": "text/x-python",
   "name": "python",
   "nbconvert_exporter": "python",
   "pygments_lexer": "ipython3",
   "version": "3.5.2"
  }
 },
 "nbformat": 4,
 "nbformat_minor": 2
}
